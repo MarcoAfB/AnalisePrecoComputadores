{
 "cells": [
  {
   "cell_type": "code",
   "execution_count": 1,
   "metadata": {},
   "outputs": [],
   "source": [
    "import pandas as pd\n",
    "import numpy as np\n",
    "import matplotlib.pyplot as plt\n",
    "from sklearn import metrics\n",
    "from sklearn import linear_model\n",
    "from sklearn import model_selection"
   ]
  },
  {
   "cell_type": "code",
   "execution_count": 2,
   "metadata": {},
   "outputs": [
    {
     "data": {
      "text/plain": [
       "(893, 16)"
      ]
     },
     "execution_count": 2,
     "metadata": {},
     "output_type": "execute_result"
    }
   ],
   "source": [
    "conjuntoDadosSujo = pd.read_csv('data.csv')\n",
    "conjuntoDadosSujo.drop(['Unnamed: 0.1', 'Unnamed: 0'], axis=1, inplace=True)\n",
    "conjuntoDadosSujo.shape"
   ]
  },
  {
   "cell_type": "code",
   "execution_count": 3,
   "metadata": {},
   "outputs": [],
   "source": [
    "def transformarColunaOneHotEncode(conjuntoDados, coluna):\n",
    "    classes = conjuntoDados[coluna].unique()\n",
    "    dadosOneHotEncode = pd.DataFrame(0, index=range(conjuntoDados.shape[0]), columns=classes)\n",
    "    for i in classes:\n",
    "        dadosOneHotEncode[i] = np.where(conjuntoDados[coluna] == i, 1, 0)\n",
    "    return pd.concat([conjuntoDados.drop(coluna, axis=1), dadosOneHotEncode], axis=1)\n",
    "\n",
    "def transformarConjuntoOneHotEncode(conjuntoDados, colunas):\n",
    "    for coluna in colunas:\n",
    "        conjuntoDados = transformarColunaOneHotEncode(conjuntoDados, coluna)\n",
    "    return conjuntoDados\n",
    "\n",
    "def contarCategoriasemVariavel(conjuntoDados, colunas):\n",
    "    for coluna in colunas:\n",
    "        print(conjuntoDados[coluna].value_counts(),\"\\n\\n\")\n",
    "\n",
    "def unificarCategorias(conjuntoDados, coluna, categorias):\n",
    "    for categoria in categorias:\n",
    "        conjuntoDados.loc[conjuntoDados[coluna] == categoria, coluna] = coluna+\"Outros\""
   ]
  },
  {
   "cell_type": "markdown",
   "metadata": {},
   "source": [
    "Podemos notar que no conjunto de dados há várias variáveis como categoria ou até mesmo texto, havendo poucos do tipo quantitativo, apenas price e spec_rating podendo tratar os outros numéricos como sendo ordinais."
   ]
  },
  {
   "cell_type": "code",
   "execution_count": 4,
   "metadata": {},
   "outputs": [
    {
     "data": {
      "text/html": [
       "<div>\n",
       "<style scoped>\n",
       "    .dataframe tbody tr th:only-of-type {\n",
       "        vertical-align: middle;\n",
       "    }\n",
       "\n",
       "    .dataframe tbody tr th {\n",
       "        vertical-align: top;\n",
       "    }\n",
       "\n",
       "    .dataframe thead th {\n",
       "        text-align: right;\n",
       "    }\n",
       "</style>\n",
       "<table border=\"1\" class=\"dataframe\">\n",
       "  <thead>\n",
       "    <tr style=\"text-align: right;\">\n",
       "      <th></th>\n",
       "      <th>brand</th>\n",
       "      <th>name</th>\n",
       "      <th>price</th>\n",
       "      <th>spec_rating</th>\n",
       "      <th>processor</th>\n",
       "      <th>CPU</th>\n",
       "      <th>Ram</th>\n",
       "      <th>Ram_type</th>\n",
       "      <th>ROM</th>\n",
       "      <th>ROM_type</th>\n",
       "      <th>GPU</th>\n",
       "      <th>display_size</th>\n",
       "      <th>resolution_width</th>\n",
       "      <th>resolution_height</th>\n",
       "      <th>OS</th>\n",
       "      <th>warranty</th>\n",
       "    </tr>\n",
       "  </thead>\n",
       "  <tbody>\n",
       "    <tr>\n",
       "      <th>0</th>\n",
       "      <td>HP</td>\n",
       "      <td>Victus 15-fb0157AX Gaming Laptop</td>\n",
       "      <td>49900</td>\n",
       "      <td>73.000000</td>\n",
       "      <td>5th Gen AMD Ryzen 5 5600H</td>\n",
       "      <td>Hexa Core, 12 Threads</td>\n",
       "      <td>8GB</td>\n",
       "      <td>DDR4</td>\n",
       "      <td>512GB</td>\n",
       "      <td>SSD</td>\n",
       "      <td>4GB AMD Radeon RX 6500M</td>\n",
       "      <td>15.6</td>\n",
       "      <td>1920.0</td>\n",
       "      <td>1080.0</td>\n",
       "      <td>Windows 11 OS</td>\n",
       "      <td>1</td>\n",
       "    </tr>\n",
       "    <tr>\n",
       "      <th>1</th>\n",
       "      <td>HP</td>\n",
       "      <td>15s-fq5007TU Laptop</td>\n",
       "      <td>39900</td>\n",
       "      <td>60.000000</td>\n",
       "      <td>12th Gen Intel Core i3 1215U</td>\n",
       "      <td>Hexa Core (2P + 4E), 8 Threads</td>\n",
       "      <td>8GB</td>\n",
       "      <td>DDR4</td>\n",
       "      <td>512GB</td>\n",
       "      <td>SSD</td>\n",
       "      <td>Intel UHD Graphics</td>\n",
       "      <td>15.6</td>\n",
       "      <td>1920.0</td>\n",
       "      <td>1080.0</td>\n",
       "      <td>Windows 11 OS</td>\n",
       "      <td>1</td>\n",
       "    </tr>\n",
       "    <tr>\n",
       "      <th>2</th>\n",
       "      <td>Acer</td>\n",
       "      <td>One 14 Z8-415 Laptop</td>\n",
       "      <td>26990</td>\n",
       "      <td>69.323529</td>\n",
       "      <td>11th Gen Intel Core i3 1115G4</td>\n",
       "      <td>Dual Core, 4 Threads</td>\n",
       "      <td>8GB</td>\n",
       "      <td>DDR4</td>\n",
       "      <td>512GB</td>\n",
       "      <td>SSD</td>\n",
       "      <td>Intel Iris Xe Graphics</td>\n",
       "      <td>14.0</td>\n",
       "      <td>1920.0</td>\n",
       "      <td>1080.0</td>\n",
       "      <td>Windows 11 OS</td>\n",
       "      <td>1</td>\n",
       "    </tr>\n",
       "    <tr>\n",
       "      <th>3</th>\n",
       "      <td>Lenovo</td>\n",
       "      <td>Yoga Slim 6 14IAP8 82WU0095IN Laptop</td>\n",
       "      <td>59729</td>\n",
       "      <td>66.000000</td>\n",
       "      <td>12th Gen Intel Core i5 1240P</td>\n",
       "      <td>12 Cores (4P + 8E), 16 Threads</td>\n",
       "      <td>16GB</td>\n",
       "      <td>LPDDR5</td>\n",
       "      <td>512GB</td>\n",
       "      <td>SSD</td>\n",
       "      <td>Intel Integrated Iris Xe</td>\n",
       "      <td>14.0</td>\n",
       "      <td>2240.0</td>\n",
       "      <td>1400.0</td>\n",
       "      <td>Windows 11 OS</td>\n",
       "      <td>1</td>\n",
       "    </tr>\n",
       "    <tr>\n",
       "      <th>4</th>\n",
       "      <td>Apple</td>\n",
       "      <td>MacBook Air 2020 MGND3HN Laptop</td>\n",
       "      <td>69990</td>\n",
       "      <td>69.323529</td>\n",
       "      <td>Apple M1</td>\n",
       "      <td>Octa Core (4P + 4E)</td>\n",
       "      <td>8GB</td>\n",
       "      <td>DDR4</td>\n",
       "      <td>256GB</td>\n",
       "      <td>SSD</td>\n",
       "      <td>Apple M1 Integrated Graphics</td>\n",
       "      <td>13.3</td>\n",
       "      <td>2560.0</td>\n",
       "      <td>1600.0</td>\n",
       "      <td>Mac OS</td>\n",
       "      <td>1</td>\n",
       "    </tr>\n",
       "  </tbody>\n",
       "</table>\n",
       "</div>"
      ],
      "text/plain": [
       "    brand                                  name  price  spec_rating  \\\n",
       "0      HP      Victus 15-fb0157AX Gaming Laptop  49900    73.000000   \n",
       "1      HP                   15s-fq5007TU Laptop  39900    60.000000   \n",
       "2    Acer                  One 14 Z8-415 Laptop  26990    69.323529   \n",
       "3  Lenovo  Yoga Slim 6 14IAP8 82WU0095IN Laptop  59729    66.000000   \n",
       "4   Apple       MacBook Air 2020 MGND3HN Laptop  69990    69.323529   \n",
       "\n",
       "                       processor                             CPU   Ram  \\\n",
       "0      5th Gen AMD Ryzen 5 5600H           Hexa Core, 12 Threads   8GB   \n",
       "1   12th Gen Intel Core i3 1215U  Hexa Core (2P + 4E), 8 Threads   8GB   \n",
       "2  11th Gen Intel Core i3 1115G4            Dual Core, 4 Threads   8GB   \n",
       "3   12th Gen Intel Core i5 1240P  12 Cores (4P + 8E), 16 Threads  16GB   \n",
       "4                       Apple M1             Octa Core (4P + 4E)   8GB   \n",
       "\n",
       "  Ram_type    ROM ROM_type                           GPU  display_size  \\\n",
       "0     DDR4  512GB      SSD       4GB AMD Radeon RX 6500M          15.6   \n",
       "1     DDR4  512GB      SSD            Intel UHD Graphics          15.6   \n",
       "2     DDR4  512GB      SSD        Intel Iris Xe Graphics          14.0   \n",
       "3   LPDDR5  512GB      SSD      Intel Integrated Iris Xe          14.0   \n",
       "4     DDR4  256GB      SSD  Apple M1 Integrated Graphics          13.3   \n",
       "\n",
       "   resolution_width  resolution_height             OS  warranty  \n",
       "0            1920.0             1080.0  Windows 11 OS         1  \n",
       "1            1920.0             1080.0  Windows 11 OS         1  \n",
       "2            1920.0             1080.0  Windows 11 OS         1  \n",
       "3            2240.0             1400.0  Windows 11 OS         1  \n",
       "4            2560.0             1600.0         Mac OS         1  "
      ]
     },
     "execution_count": 4,
     "metadata": {},
     "output_type": "execute_result"
    }
   ],
   "source": [
    "conjuntoDadosSujo.head(5)"
   ]
  },
  {
   "cell_type": "code",
   "execution_count": 5,
   "metadata": {},
   "outputs": [
    {
     "data": {
      "text/plain": [
       "brand                0\n",
       "name                 0\n",
       "price                0\n",
       "spec_rating          0\n",
       "processor            0\n",
       "CPU                  0\n",
       "Ram                  0\n",
       "Ram_type             0\n",
       "ROM                  0\n",
       "ROM_type             0\n",
       "GPU                  0\n",
       "display_size         0\n",
       "resolution_width     0\n",
       "resolution_height    0\n",
       "OS                   0\n",
       "warranty             0\n",
       "dtype: int64"
      ]
     },
     "execution_count": 5,
     "metadata": {},
     "output_type": "execute_result"
    }
   ],
   "source": [
    "# Não há valores faltantes no conjunto de dados\n",
    "conjuntoDadosSujo.isnull().sum()"
   ]
  }
 ],
 "metadata": {
  "kernelspec": {
   "display_name": "env",
   "language": "python",
   "name": "python3"
  },
  "language_info": {
   "codemirror_mode": {
    "name": "ipython",
    "version": 3
   },
   "file_extension": ".py",
   "mimetype": "text/x-python",
   "name": "python",
   "nbconvert_exporter": "python",
   "pygments_lexer": "ipython3",
   "version": "3.12.0"
  }
 },
 "nbformat": 4,
 "nbformat_minor": 2
}
